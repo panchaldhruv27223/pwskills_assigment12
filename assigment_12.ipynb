{
 "cells": [
  {
   "cell_type": "code",
   "execution_count": null,
   "id": "26470ea1",
   "metadata": {},
   "outputs": [],
   "source": [
    "Q1. What is an Exception in python? Write the difference beetween Exceptions and syntax\n",
    "errors."
   ]
  },
  {
   "cell_type": "code",
   "execution_count": null,
   "id": "e37a8b03",
   "metadata": {},
   "outputs": [],
   "source": [
    "Exceptions  : \n",
    "    Exceptions are raise when internal events occure. Exceptions are alredy known situation which means if we know that in that \n",
    "    situation that type of problem may be ocuure then we called as exception. Exceptions are the runtime error. it is also\n",
    "    called logical error. exception we can raise . exception we can handle easyly \n",
    "\n",
    "Syntex error : \n",
    "    Syntex error are the errors that occure because of we write wrong syntex or we can say we dont follow proper language syntex \n",
    "    \n",
    "the main difference between Exceptions and SyntaxError is that Exceptions are handled but syntex error can not be handled \n",
    "syntex error are the not depends on situation it definetly wrong but exception are depend on situation it is a logical error \n",
    "if our programe hve syntex error it can not wrok and our code can not compile \n",
    "but if our program have exception so exception can be handled at run time "
   ]
  },
  {
   "cell_type": "code",
   "execution_count": null,
   "id": "7b805c93",
   "metadata": {},
   "outputs": [],
   "source": [
    "Q2. What happens when an exception is not hndled? Explain with an example?"
   ]
  },
  {
   "cell_type": "code",
   "execution_count": 2,
   "id": "17e3d9e5",
   "metadata": {},
   "outputs": [
    {
     "name": "stdout",
     "output_type": "stream",
     "text": [
      "division by zero\n",
      "9\n"
     ]
    }
   ],
   "source": [
    "# EX :\n",
    "\n",
    "try :\n",
    "    a = 2/0\n",
    "except Exception as e :\n",
    "    print(e)\n",
    "\n",
    "b = 4+5\n",
    "print(b)"
   ]
  },
  {
   "cell_type": "code",
   "execution_count": 7,
   "id": "bc91d5c6",
   "metadata": {},
   "outputs": [
    {
     "ename": "ZeroDivisionError",
     "evalue": "division by zero",
     "output_type": "error",
     "traceback": [
      "\u001b[1;31m---------------------------------------------------------------------------\u001b[0m",
      "\u001b[1;31mZeroDivisionError\u001b[0m                         Traceback (most recent call last)",
      "Cell \u001b[1;32mIn[7], line 1\u001b[0m\n\u001b[1;32m----> 1\u001b[0m a \u001b[38;5;241m=\u001b[39m \u001b[38;5;241;43m2\u001b[39;49m\u001b[38;5;241;43m/\u001b[39;49m\u001b[38;5;241;43m0\u001b[39;49m\n\u001b[0;32m      2\u001b[0m \u001b[38;5;28mprint\u001b[39m(a)\n\u001b[0;32m      3\u001b[0m b \u001b[38;5;241m=\u001b[39m \u001b[38;5;241m4\u001b[39m\u001b[38;5;241m+\u001b[39m\u001b[38;5;241m5\u001b[39m\n",
      "\u001b[1;31mZeroDivisionError\u001b[0m: division by zero"
     ]
    }
   ],
   "source": [
    "a = 2/0\n",
    "print(a)\n",
    "b = 4+5\n",
    "print(b)"
   ]
  },
  {
   "cell_type": "code",
   "execution_count": 8,
   "id": "069aa96b",
   "metadata": {},
   "outputs": [],
   "source": [
    "# if we don't handled exception then our program give us an error and program stop. program can not work further\n",
    "#  so it is necessary to handel exception "
   ]
  },
  {
   "cell_type": "code",
   "execution_count": null,
   "id": "510478d4",
   "metadata": {},
   "outputs": [],
   "source": [
    "Q3. Which Python statements are used to catch and handle exceptions? Explain with an example?"
   ]
  },
  {
   "cell_type": "code",
   "execution_count": null,
   "id": "441c13b4",
   "metadata": {},
   "outputs": [],
   "source": [
    "#  there are 4 block try except else and finally \n",
    "\n",
    "#  part of the program that can give us a error we write that type of code in try block\n",
    "#  for handling and catch the exception we write except block\n",
    "\n",
    "#  ex : "
   ]
  },
  {
   "cell_type": "code",
   "execution_count": 9,
   "id": "24f7a46a",
   "metadata": {},
   "outputs": [
    {
     "name": "stdout",
     "output_type": "stream",
     "text": [
      "division by zero\n"
     ]
    }
   ],
   "source": [
    "try :\n",
    "    a = 10/0\n",
    "except ZeroDivisionError as e:\n",
    "    print(e)"
   ]
  },
  {
   "cell_type": "code",
   "execution_count": null,
   "id": "e57b1836",
   "metadata": {},
   "outputs": [],
   "source": [
    "Q4. Explain with an example: try and else ,finall ,raise "
   ]
  },
  {
   "cell_type": "code",
   "execution_count": 13,
   "id": "6e60c11a",
   "metadata": {},
   "outputs": [
    {
     "name": "stdout",
     "output_type": "stream",
     "text": [
      "Exception : [Errno 2] No such file or directory: 'ttt.txt'\n",
      "we complete finally block\n"
     ]
    }
   ],
   "source": [
    "try :\n",
    "    with open(\"ttt.txt\" , \"r\"):\n",
    "        f.read()\n",
    "except Exception as e:\n",
    "    print( \"Exception :\",e)\n",
    "    \n",
    "#  finally block always execute  exception handled or not handled \n",
    "finally:\n",
    "    print(\"we complete finally block\")"
   ]
  },
  {
   "cell_type": "code",
   "execution_count": 15,
   "id": "f426abcd",
   "metadata": {},
   "outputs": [],
   "source": [
    "import logging\n",
    "logging.basicConfig(filename=\"ERROR.log\" , level = logging.INFO)\n",
    "\n",
    "try :\n",
    "    with open(\"ttt.txt\" , \"w\") as f:\n",
    "        f.write(\"this is a ttt file \")\n",
    "except Exception as e:\n",
    "    print( \"Exception :\",e)\n",
    "    \n",
    "#  else part only execute when try block complete execution without any exception  \n",
    "else:\n",
    "    logging.info(\"this is a else block.\")\n",
    "    \n",
    "#  finally block always execute  exception handled or not handled \n",
    "finally:\n",
    "    logging.info(\"we complete finally block\")"
   ]
  },
  {
   "cell_type": "code",
   "execution_count": 23,
   "id": "849f8247",
   "metadata": {},
   "outputs": [
    {
     "name": "stdout",
     "output_type": "stream",
     "text": [
      "enter your age :199\n"
     ]
    }
   ],
   "source": [
    "#  raise is used to raise an exception \n",
    "\n",
    "class err(Exception):\n",
    "    def __init__(self , msg):\n",
    "        self.msg = msg\n",
    "        \n",
    "def test_drive(age):\n",
    "    if age>18 and age<55 :\n",
    "        logging.info(\"you can drive.\"+str(age))\n",
    "    else :\n",
    "        raise err(\"you can note drive a vehical.\")\n",
    "try:\n",
    "    age = int(input(\"enter your age :\"))\n",
    "    test_drive(age)\n",
    "    \n",
    "except err as e :\n",
    "    logging.error(\"exception : {}\".format(e))"
   ]
  },
  {
   "cell_type": "code",
   "execution_count": null,
   "id": "bea81371",
   "metadata": {},
   "outputs": [],
   "source": [
    "Q5. What are Custom Exceptions in python? Why do we need Custom Exceptions? Explain with an example?"
   ]
  },
  {
   "cell_type": "code",
   "execution_count": 1,
   "id": "5c1b3d7e",
   "metadata": {},
   "outputs": [],
   "source": [
    "# custom exception are user defined exception. \n",
    "# custom exceptoin are raied with specific perpose.   \n",
    "# Exception are base class Exception class contain general exception but if we want to raise our exception we can say if we want \n",
    "# to raise some exception if certain condition occure then we just create custom exception .\n",
    "# this make our code more readable and more understanding give about your code \n",
    "# we simple understand what problem or exception may be occure \n",
    "# costum exception class simply inheritate Exception class "
   ]
  },
  {
   "cell_type": "code",
   "execution_count": 8,
   "id": "fe008786",
   "metadata": {},
   "outputs": [
    {
     "name": "stdout",
     "output_type": "stream",
     "text": [
      "enter your salary :-789\n"
     ]
    }
   ],
   "source": [
    "import logging \n",
    "logging.basicConfig(filename = \"ERROR.log\" , level = logging.DEBUG , format =\"%(asctime)s %(name)s %(levelname)s %(message)s\")\n",
    "\n",
    "try :\n",
    "    salary = int(input(\"enter your salary :\"))\n",
    "    \n",
    "    if salary < 0 :\n",
    "        raise Exception(\"o liar\")\n",
    "    else :\n",
    "        logging.info(\"you make good money\")\n",
    "except Exception as e :\n",
    "    logging.error(e)\n",
    "        "
   ]
  },
  {
   "cell_type": "code",
   "execution_count": null,
   "id": "14343437",
   "metadata": {},
   "outputs": [],
   "source": [
    "Q.6 Create custom exception class. Use this class to handle an exception."
   ]
  },
  {
   "cell_type": "code",
   "execution_count": 9,
   "id": "670e8f84",
   "metadata": {},
   "outputs": [
    {
     "name": "stdout",
     "output_type": "stream",
     "text": [
      "enter your salary :-789\n"
     ]
    }
   ],
   "source": [
    "class salaryexception(Exception):\n",
    "    def __init__(self,msg):\n",
    "        self.msg = msg\n",
    "\n",
    "try :\n",
    "    salary = int(input(\"enter your salary :\"))\n",
    "    \n",
    "    if salary < 0 :\n",
    "        raise salaryexception(\"o liar\")\n",
    "    else :\n",
    "        logging.info(\"you make good money\")\n",
    "except salaryexception as e :\n",
    "    logging.error(e)\n",
    "        "
   ]
  },
  {
   "cell_type": "code",
   "execution_count": null,
   "id": "03d0473c",
   "metadata": {},
   "outputs": [],
   "source": []
  }
 ],
 "metadata": {
  "kernelspec": {
   "display_name": "Python 3 (ipykernel)",
   "language": "python",
   "name": "python3"
  },
  "language_info": {
   "codemirror_mode": {
    "name": "ipython",
    "version": 3
   },
   "file_extension": ".py",
   "mimetype": "text/x-python",
   "name": "python",
   "nbconvert_exporter": "python",
   "pygments_lexer": "ipython3",
   "version": "3.9.7"
  }
 },
 "nbformat": 4,
 "nbformat_minor": 5
}
